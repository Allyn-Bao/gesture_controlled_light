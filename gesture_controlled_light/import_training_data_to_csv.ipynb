{
 "cells": [
  {
   "cell_type": "code",
   "execution_count": 10,
   "metadata": {
    "collapsed": true
   },
   "outputs": [],
   "source": [
    "import pandas as pd\n",
    "import csv\n",
    "import os"
   ]
  },
  {
   "cell_type": "code",
   "execution_count": 11,
   "outputs": [],
   "source": [
    "def read_file(file_path, y):\n",
    "    \"\"\"\n",
    "    read raw sensor input data from a txt file and return an 2D array of the dataset\n",
    "    y is the category the inputs are corresponding to\n",
    "    \"\"\"\n",
    "    with open(file_path, 'r') as file:\n",
    "        lines = file.readlines()\n",
    "\n",
    "        table = []\n",
    "        # process each line\n",
    "        for line in lines:\n",
    "            sensor_input = line.strip().split(', ')\n",
    "            sensor_data = [int(value) for value in sensor_input]\n",
    "            sensor_data.append(y)\n",
    "            table.append(sensor_data)\n",
    "\n",
    "        return table\n"
   ],
   "metadata": {
    "collapsed": false
   }
  },
  {
   "cell_type": "code",
   "execution_count": 12,
   "outputs": [],
   "source": [
    "# combined data from all txt files\n",
    "combined_data = []\n",
    "\n",
    "# column titles\n",
    "columns = [\"ir_1\", \"ir_2\", \"ir_3\", \"ir_4\", \"gesture\"]\n",
    "\n",
    "# gesture mapping\n",
    "gestures = {\"up\": 0, \"down\": 1, \"left\": 2, \"right\": 3}\n",
    "\n",
    "# txt files\n",
    "swipe_up_file = os.path.join(\"swipe_up_data.txt\")\n",
    "swipe_down_file = os.path.join(\"swipe_down_data.txt\")\n",
    "swipe_left_file = os.path.join(\"swipe_left_data.txt\")\n",
    "swipe_right_file = os.path.join(\"swipe_right_data.txt\")"
   ],
   "metadata": {
    "collapsed": false
   }
  },
  {
   "cell_type": "markdown",
   "source": [
    "read txt files into a table"
   ],
   "metadata": {
    "collapsed": false
   }
  },
  {
   "cell_type": "code",
   "execution_count": 13,
   "outputs": [],
   "source": [
    "combined_data += read_file(swipe_up_file, gestures[\"up\"])\n",
    "combined_data += read_file(swipe_down_file, gestures[\"down\"])\n",
    "combined_data += read_file(swipe_left_file, gestures[\"left\"])\n",
    "combined_data += read_file(swipe_right_file, gestures[\"right\"])"
   ],
   "metadata": {
    "collapsed": false
   }
  },
  {
   "cell_type": "markdown",
   "source": [
    "Dataframe"
   ],
   "metadata": {
    "collapsed": false
   }
  },
  {
   "cell_type": "code",
   "execution_count": 14,
   "outputs": [],
   "source": [
    "df = pd.DataFrame(combined_data, columns=columns)\n",
    "\n",
    "# csv file path\n",
    "csv_file = os.path.join(\"sensor_data.csv\")\n",
    "\n",
    "# export csv, exclude row index\n",
    "df.to_csv(csv_file, index=False)"
   ],
   "metadata": {
    "collapsed": false
   }
  }
 ],
 "metadata": {
  "kernelspec": {
   "display_name": "Python 3",
   "language": "python",
   "name": "python3"
  },
  "language_info": {
   "codemirror_mode": {
    "name": "ipython",
    "version": 2
   },
   "file_extension": ".py",
   "mimetype": "text/x-python",
   "name": "python",
   "nbconvert_exporter": "python",
   "pygments_lexer": "ipython2",
   "version": "2.7.6"
  }
 },
 "nbformat": 4,
 "nbformat_minor": 0
}
